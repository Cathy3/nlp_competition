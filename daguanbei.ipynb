{
 "cells": [
  {
   "cell_type": "markdown",
   "metadata": {},
   "source": [
    "# “达观杯”文本智能处理挑战赛"
   ]
  },
  {
   "cell_type": "code",
   "execution_count": 5,
   "metadata": {},
   "outputs": [],
   "source": [
    "import pandas as pd\n",
    "\n",
    "from sklearn.feature_extraction.text import CountVectorizer"
   ]
  },
  {
   "cell_type": "markdown",
   "metadata": {},
   "source": [
    "## 数据预处理"
   ]
  },
  {
   "cell_type": "code",
   "execution_count": 6,
   "metadata": {},
   "outputs": [],
   "source": [
    "df_train = pd.read_csv('./train_set.csv')\n",
    "df_test = pd.read_csv('./test_set.csv')\n",
    "df_train.drop(columns=['article', 'id'], inplace=True)\n",
    "df_test.drop(columns=['article'], inplace=True)"
   ]
  },
  {
   "cell_type": "markdown",
   "metadata": {},
   "source": [
    "## 特征工程\n",
    "将数据集中的字符文本转换成数字向量，以便计算机能够进行处理。"
   ]
  },
  {
   "cell_type": "code",
   "execution_count": 7,
   "metadata": {},
   "outputs": [],
   "source": [
    "vectorizer = CountVectorizer(ngram_range=(1,2), min_df=3, max_df=0.9, max_features=100000)\n",
    "vectorizer.fit(df_train['word_seg']) #构建词汇表\n",
    "x_train = vectorizer.transform(df_train['word_seg'])  # 将每一篇文章转为对应的一个特征向量\n",
    "x_test = vectorizer.transform(df_test['word_seg'])\n",
    "y_train = df_train['class']-1  # 因为从0开始计数，所以要将原值-1"
   ]
  },
  {
   "cell_type": "markdown",
   "metadata": {},
   "source": [
    "## 分类算法\n",
    "传统监督学习算法"
   ]
  },
  {
   "cell_type": "code",
   "execution_count": 8,
   "metadata": {},
   "outputs": [],
   "source": [
    "from sklearn.naive_bayes import MultinomialNB\n",
    "lg = MultinomialNB() #MultinomialNB朴素贝叶斯算法\n",
    "#from sklearn.linear_model import LogisticRegression\n",
    "# lg = LogisticRegression(C=4, dual=True) # 初始化一个逻辑回归分类器\n",
    "lg.fit(x_train,y_train) #训练\n",
    "y_test = lg.predict(x_test) #预测"
   ]
  },
  {
   "cell_type": "markdown",
   "metadata": {},
   "source": [
    "将结果保存至本地"
   ]
  },
  {
   "cell_type": "code",
   "execution_count": 9,
   "metadata": {},
   "outputs": [],
   "source": [
    "df_test['class'] = y_test.tolist()  #转换为python的 List 形式\n",
    "df_test['class'] += 1  # 将class+1，保证和官方的预测值一致\n",
    "df_result = df_test.loc[:, ['id', 'class']]\n",
    "df_result.to_csv('./result.csv', index=False)  # 结果保存到本地"
   ]
  },
  {
   "cell_type": "code",
   "execution_count": null,
   "metadata": {},
   "outputs": [],
   "source": []
  }
 ],
 "metadata": {
  "kernelspec": {
   "display_name": "Python 3",
   "language": "python",
   "name": "python3"
  },
  "language_info": {
   "codemirror_mode": {
    "name": "ipython",
    "version": 3
   },
   "file_extension": ".py",
   "mimetype": "text/x-python",
   "name": "python",
   "nbconvert_exporter": "python",
   "pygments_lexer": "ipython3",
   "version": "3.6.4"
  }
 },
 "nbformat": 4,
 "nbformat_minor": 2
}
